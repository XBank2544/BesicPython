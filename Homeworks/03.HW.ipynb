{
 "cells": [
  {
   "cell_type": "code",
   "execution_count": null,
   "id": "db3fa3a7",
   "metadata": {},
   "outputs": [],
   "source": [
    "Nc,Ns = [int(i) for i in input().split()]\n",
    "d = {}\n",
    "for i in range(Ns):\n",
    "    c,s = input().split()\n",
    "    d[s] = c\n",
    "order = []\n",
    "line = []\n",
    "cil = []\n",
    "while True:\n",
    "    x = input().split()\n",
    "    if x[0] == \"X\":\n",
    "        break\n",
    "    if x[0] == \"E\":\n",
    "        if len(line) == 0:\n",
    "            line.append(x[1])\n",
    "            cil.append(d[x[1]])\n",
    "        else:\n",
    "            l = cil[::-1]\n",
    "            if d[x[1]] in l:\n",
    "                ind = l.index(d[x[1]])\n",
    "                line.insert(len(line)-ind,x[1])\n",
    "                cil.insert(len(line)-ind,d[x[1]])\n",
    "            else:\n",
    "                line.append(x[1])\n",
    "                cil.append(d[x[1]])\n",
    "    elif x[0] == \"D\":\n",
    "        if len(line) != 0:\n",
    "            order.append(line[0])\n",
    "            line.pop(0)\n",
    "            cil.pop(0)\n",
    "    else:\n",
    "        pass\n",
    "for i in order:\n",
    "    print(i)\n",
    "print(int(0))"
   ]
  },
  {
   "cell_type": "code",
   "execution_count": null,
   "id": "8c116a3f",
   "metadata": {},
   "outputs": [],
   "source": []
  }
 ],
 "metadata": {
  "kernelspec": {
   "display_name": "Python 3",
   "language": "python",
   "name": "python3"
  },
  "language_info": {
   "codemirror_mode": {
    "name": "ipython",
    "version": 3
   },
   "file_extension": ".py",
   "mimetype": "text/x-python",
   "name": "python",
   "nbconvert_exporter": "python",
   "pygments_lexer": "ipython3",
   "version": "3.8.8"
  }
 },
 "nbformat": 4,
 "nbformat_minor": 5
}
